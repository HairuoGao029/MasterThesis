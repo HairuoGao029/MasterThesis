{
  "nbformat": 4,
  "nbformat_minor": 0,
  "metadata": {
    "colab": {
      "provenance": [],
      "authorship_tag": "ABX9TyMaDPf2Sl7lZUYkMKV7sHxE",
      "include_colab_link": true
    },
    "kernelspec": {
      "name": "python3",
      "display_name": "Python 3"
    },
    "language_info": {
      "name": "python"
    }
  },
  "cells": [
    {
      "cell_type": "markdown",
      "metadata": {
        "id": "view-in-github",
        "colab_type": "text"
      },
      "source": [
        "<a href=\"https://colab.research.google.com/github/HairuoGao029/MasterThesis/blob/main/ARIMA.ipynb\" target=\"_parent\"><img src=\"https://colab.research.google.com/assets/colab-badge.svg\" alt=\"Open In Colab\"/></a>"
      ]
    },
    {
      "cell_type": "code",
      "execution_count": null,
      "metadata": {
        "id": "LmRfj7PbOnHd"
      },
      "outputs": [],
      "source": [
        "from google.colab import drive\n",
        "drive.mount('/content/drive')\n",
        "%cd /content/drive/MyDrive/MSc/dcrnn"
      ]
    },
    {
      "cell_type": "code",
      "source": [
        "from __future__ import print_function\n",
        "import pandas as pd\n",
        "import numpy as np\n",
        "import matplotlib.pyplot as plt\n",
        "import statsmodels.api as sm\n",
        "\n",
        "data_raw = np.load('/content/drive/MyDrive/MSc/datasets/0810/8h_d20.npy', allow_pickle=True)\n",
        "lane_list = np.load('/content/drive/MyDrive/MSc/net/lane_list.npy', allow_pickle=True)\n",
        "id = ['56250003#0_0%1', '237111029#1.254_0%1', '238459506.6_0%1', '62830645#2.0.0_0%1'] # road segments for different attack scenarios\n",
        "lane_id = '62830645#2.0.0_0%1'\n",
        "lane_index = lane_list.tolist().index(lane_id)\n",
        "print(len(data_raw[1][1]))\n",
        "datar = data_raw[lane_index][1]\n",
        "data = pd.Series(datar)\n",
        "'''\n",
        "discfile = 'E:/data_test.xls'\n",
        "data = pd.read_excel(discfile,index_col=0)\n",
        "data=data['number']\n",
        "data.head()\n",
        "'''\n",
        "\n",
        "plt.plot(data)\n",
        "\n",
        "\n",
        "diff_1 = data.diff(1)\n",
        "diff1 = diff_1.dropna()\n",
        "diff1_144_1 = diff_1-diff_1.shift(144)\n",
        "diff1_144 = diff1_144_1.dropna()\n",
        "#print(diff1_144_1)\n",
        "fig1 = plt.figure(figsize=(12,8))\n",
        "ax1=fig1.add_subplot(111)\n",
        "sm.graphics.tsa.plot_acf(diff1_144,lags=40,ax=ax1)\n",
        "fig2 = plt.figure(figsize=(12,8))\n",
        "ax2=fig2.add_subplot(111)\n",
        "sm.graphics.tsa.plot_pacf(diff1_144,lags=40, ax=ax2)\n",
        "\n",
        "\n",
        "arma_mod61 = sm.tsa.ARMA(diff1_144,(6,1)).fit()\n",
        "print(arma_mod61.aic,arma_mod61.bic,arma_mod61.hqic)\n",
        "resid = arma_mod61.resid\n",
        "\n",
        "fig = plt.figure(figsize=(12,8))\n",
        "ax1 = fig.add_subplot(211)\n",
        "fig = sm.graphics.tsa.plot_acf(resid.values.squeeze(), lags=40, ax=ax1)\n",
        "ax2 = fig.add_subplot(212)\n",
        "fig = sm.graphics.tsa.plot_pacf(resid, lags=40, ax=ax2)\n",
        "\n",
        "print(sm.stats.durbin_watson(arma_mod61.resid.values))\n",
        "\n",
        "r,q,p = sm.tsa.acf(resid.values.squeeze(), qstat=True)\n",
        "d = np.c_[range(1,41), r[1:], q, p]\n",
        "table = pd.DataFrame(d, columns=['lag', \"AC\", \"Q\", \"Prob(>Q)\"])\n",
        "print(table.set_index('lag'))\n",
        "\n",
        "# prediction\n",
        "predict_data=arma_mod61.predict(0,-1,dynamic=False)\n",
        "# Since the prediction is made with the difference value, the result needs to be restored\n",
        "# 144 differential restore\n",
        "diff1_144_shift=diff_1.shift(144)\n",
        "# print('print diff1_144_shift')\n",
        "print(diff1_144_shift)\n",
        "diff_recover_144=predict_data.add(diff1_144_shift)\n",
        "# First difference reduction\n",
        "diff1_shift=data.shift(1)\n",
        "diff_recover_1=diff_recover_144.add(diff1_shift)\n",
        "diff_recover_1=diff_recover_1.dropna() # The predicted value of the final reduction\n",
        "print('predicted value')\n",
        "print(diff_recover_1)\n",
        "\n",
        "np.save('/content/drive/MyDrive/MSc/dcrnn/data/result/ARIMA_'+str(lane_index)+'.npy', diff_recover_1)"
      ],
      "metadata": {
        "id": "-LFwU0WWOuOc"
      },
      "execution_count": null,
      "outputs": []
    }
  ]
}