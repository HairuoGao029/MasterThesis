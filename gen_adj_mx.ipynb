{
  "nbformat": 4,
  "nbformat_minor": 0,
  "metadata": {
    "colab": {
      "provenance": [],
      "collapsed_sections": [],
      "authorship_tag": "ABX9TyOcO4ZIquh0fIN7xah5Mgyc",
      "include_colab_link": true
    },
    "kernelspec": {
      "name": "python3",
      "display_name": "Python 3"
    },
    "language_info": {
      "name": "python"
    }
  },
  "cells": [
    {
      "cell_type": "markdown",
      "metadata": {
        "id": "view-in-github",
        "colab_type": "text"
      },
      "source": [
        "<a href=\"https://colab.research.google.com/github/HairuoGao029/MasterThesis/blob/main/gen_adj_mx.ipynb\" target=\"_parent\"><img src=\"https://colab.research.google.com/assets/colab-badge.svg\" alt=\"Open In Colab\"/></a>"
      ]
    },
    {
      "cell_type": "code",
      "source": [
        "import numpy as np\n",
        "from xml.sax import parse, handler\n",
        "import matplotlib.pyplot as plt\n",
        "import pickle\n",
        "\n",
        "from google.colab import drive\n",
        "drive.mount('/content/drive')\n",
        "%cd /content/drive/My Drive"
      ],
      "metadata": {
        "colab": {
          "base_uri": "https://localhost:8080/"
        },
        "id": "bMjQCC8fDSVJ",
        "outputId": "089119b9-23d4-4ebb-80ba-873499169cb4"
      },
      "execution_count": null,
      "outputs": [
        {
          "output_type": "stream",
          "name": "stdout",
          "text": [
            "Mounted at /content/drive\n",
            "/content/drive/My Drive\n"
          ]
        }
      ]
    },
    {
      "cell_type": "code",
      "source": [
        "lane_list = np.load('/content/drive/MyDrive/MSc/net/lane_list.npy')\n",
        "lane_list = lane_list.tolist()"
      ],
      "metadata": {
        "id": "YpTTHPfuK4IX"
      },
      "execution_count": null,
      "outputs": []
    },
    {
      "cell_type": "code",
      "source": [
        "class DetectorParse(handler.ContentHandler):\n",
        "    \"\"\"reading in the dataset from xml file\n",
        "    \"\"\"\n",
        "    def __init__(self):\n",
        "        self.adj_mx = np.eye(len(lane_list), dtype = np.float32)\n",
        "\n",
        "    def startElement(self, name, attrs):\n",
        "        if name == 'connection':\n",
        "            fromedge = attrs['from']\n",
        "            toedge = attrs['to']\n",
        "            fromlane = attrs['from']+'_'+attrs['fromLane']\n",
        "            tolane = attrs['to']+'_'+attrs['toLane']\n",
        "            a = 7\n",
        "            b = range(a)\n",
        "            c = 3\n",
        "            d = range(c)\n",
        "            # connection between edges\n",
        "            for i in reversed(b):\n",
        "                if tolane+'%0' in lane_list:\n",
        "                    if fromlane+'%'+str(i) in lane_list:\n",
        "                        in_fromlane = lane_list.index(fromlane+'%'+str(i))\n",
        "                        in_tolane = lane_list.index(tolane+'%0')\n",
        "                        self.adj_mx[in_fromlane][in_tolane] = 1.00\n",
        "                        break\n",
        "            # connection in edges\n",
        "            for i in reversed(b):\n",
        "              for j in reversed(d):\n",
        "                if fromedge+'_'+str(j)+'%'+str(i) in lane_list:\n",
        "                  in_from = lane_list.index(fromedge+'_'+str(j)+'%'+str(i))\n",
        "                  if fromedge+'_'+str(j+1)+'%'+str(i) in lane_list:      \n",
        "                    in_to = lane_list.index(fromedge+'_'+str(j+1)+'%'+str(i))\n",
        "                    self.adj_mx[in_from][in_to] = 1\n",
        "                  if fromedge+'_'+str(j)+'%'+str(i+1) in lane_list:\n",
        "                    in_to = lane_list.index(fromedge+'_'+str(j)+'%'+str(i+1))\n",
        "                    self.adj_mx[in_from][in_to] = 1\n",
        "                  if fromedge+'_'+str(j+1)+'%'+str(i+1) in lane_list:\n",
        "                    in_to = lane_list.index(fromedge+'_'+str(j+1)+'%'+str(i+1))\n",
        "                    self.adj_mx[in_from][in_to] = 1\n",
        "        \n",
        "    def endDocument(self):\n",
        "        print(self.adj_mx)"
      ],
      "metadata": {
        "id": "G2XWUS3UDWjb"
      },
      "execution_count": null,
      "outputs": []
    },
    {
      "cell_type": "code",
      "source": [
        "detector_output = DetectorParse()\n",
        "parse('/content/drive/MyDrive/MSc/net/net.xml', detector_output) # reading in the dataset from xml file\n",
        "\n",
        "# Save\n",
        "with open('/content/drive/MyDrive/MSc/net/adj_mx_0.pkl', 'wb') as f:\n",
        "    pickle.dump([detector_output.adj_mx[0], detector_output.adj_mx[0], detector_output.adj_mx], f, protocol=2)"
      ],
      "metadata": {
        "colab": {
          "base_uri": "https://localhost:8080/"
        },
        "id": "1J5dp05BF4_1",
        "outputId": "661f2bef-83a7-4e52-deee-b6b15ce8413c"
      },
      "execution_count": null,
      "outputs": [
        {
          "output_type": "stream",
          "name": "stdout",
          "text": [
            "[[0. 0. 0. ... 0. 0. 0.]\n",
            " [0. 0. 0. ... 0. 0. 0.]\n",
            " [0. 0. 0. ... 0. 0. 0.]\n",
            " ...\n",
            " [0. 0. 0. ... 0. 0. 0.]\n",
            " [0. 0. 0. ... 0. 0. 0.]\n",
            " [0. 0. 0. ... 0. 0. 0.]]\n"
          ]
        }
      ]
    },
    {
      "cell_type": "code",
      "source": [
        "# lane_list # Retain only selected 630 sections\n",
        "load_npy = np.load('/content/drive/MyDrive/MSc/datasets/averagespeed/0617/d16.npy', allow_pickle=True)\n",
        "\n",
        "lane_list = []\n",
        "for i in range(len(load_npy)):  \n",
        "  data = data_raw[i][1]\n",
        "  if(len(data))==720:\n",
        "    lane_list.append(load_npy[i][0])\n",
        "'''\n",
        "lane_list = []\n",
        "for key in load_dict_1:\n",
        "  if  key[0] != ':':\n",
        "    lane_list.append(key)\n",
        "'''\n",
        "print(len(lane_list))\n",
        "\n",
        "np.save('/content/drive/MyDrive/MSc/net/lane_list.npy', lane_list)"
      ],
      "metadata": {
        "colab": {
          "base_uri": "https://localhost:8080/"
        },
        "id": "P_xQxv6aEO_t",
        "outputId": "b36010b7-0f93-4284-90b5-92dfb5afc4bd"
      },
      "execution_count": null,
      "outputs": [
        {
          "output_type": "stream",
          "name": "stdout",
          "text": [
            "630\n"
          ]
        }
      ]
    }
  ]
}